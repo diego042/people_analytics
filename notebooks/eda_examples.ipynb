{
 "cells": [
  {
   "cell_type": "markdown",
   "metadata": {},
   "source": [
    "# 📊 Exploratory Data Analysis (EDA) - Template\n",
    "\n",
    "\n",
    "Este notebook contém um **template reutilizável** para realizar **Análise Exploratória de Dados (EDA)** utilizando as principais bibliotecas Python.\n",
    "\n",
    "### 🔹 Bibliotecas usadas:\n",
    "- `pandas` → Manipulação de dados\n",
    "- `numpy` → Cálculos numéricos\n",
    "- `dtale` → Interface interativa para exploração de dados\n",
    "- `sweetviz` → Relatórios automáticos de EDA\n",
    "- `pandas_profiling` → Geração de relatórios completos de análise de dados\n",
    "\n",
    "### 🔹 Fontes de Dados:\n",
    "Os exemplos aqui usam datasets públicos disponíveis em:\n",
    "- [Housing Prices Dataset (Kaggle)](https://www.kaggle.com/datasets/yasserh/housing-prices-dataset)\n",
    "- [Data Analysis with Advanced Python Libraries](https://github.com/thom22/Data_Analysis_Collections/tree/main/data_analysis_with_advanced_python_libraries)\n",
    "\n",
    "💡 **Dica:** Substitua o dataset pelos seus próprios dados para usar este template em seus projetos.\n"
   ]
  },
  {
   "cell_type": "code",
   "execution_count": null,
   "metadata": {},
   "outputs": [],
   "source": [
    "# import the necessary libraries\n",
    "import pandas as pd\n",
    "import numpy as np\n",
    "from IPython.display import display, HTML\n",
    "display(HTML(\"<style>.container { width:90% !important; }</style>\"))\n",
    "\n",
    "# read the data\n",
    "#https://www.kaggle.com/datasets/yasserh/housing-prices-dataset\n",
    "#https://github.com/thom22/Data_Analysis_Collections/tree/main/data_analysis_with_advanced_python_libraries\n",
    "data = pd.read_csv('Housing.csv')\n",
    "data.columns = data.columns.str.upper()   #convert the columns to uppercase \n",
    "data"
   ]
  },
  {
   "cell_type": "markdown",
   "metadata": {},
   "source": [
    "### 🔍 Dtale - Interface Interativa para EDA\n",
    "\n",
    "[Dtale](https://github.com/man-group/dtale) é uma ferramenta open-source que fornece uma interface interativa para explorar datasets.  \n",
    "Com Dtale, podemos **visualizar, filtrar e gerar insights rapidamente**, sem necessidade de programar gráficos manualmente.\n",
    "\n",
    "🔹 **Instalação** (caso não esteja instalado):  \n",
    "```bash\n",
    "pip install dtale\n",
    "```\n",
    "\n",
    "🔹 **Como usar**:\n",
    "\n",
    "1. Execute `dtale.show(data)` para visualizar os dados na interface do editor Jupyter.  \n",
    "2. Use `dtale.show(data).open_browser()` para abrir a análise no navegador.\n",
    "\n",
    "📌 **Dica:** Você pode exportar os códigos das visualizações geradas no Dtale para reutilizá-los no seu código!\n"
   ]
  },
  {
   "cell_type": "code",
   "execution_count": null,
   "metadata": {},
   "outputs": [],
   "source": [
    "#install the dtale package\n",
    "#pip install dtale# from inside jupyter notebook or\n",
    "\n",
    "# import the library\n",
    "import dtale\n",
    "\n",
    "#view the data analysis result inside your editor \n",
    "dtale.show(data)\n",
    "\n",
    "# open the analysis in browser\n",
    "dtale.show(data).open_browser()"
   ]
  },
  {
   "cell_type": "markdown",
   "metadata": {},
   "source": [
    "### 📊 Sweetviz - Relatórios Automáticos de EDA\n",
    "\n",
    "[Sweetviz](https://github.com/fbdesignpro/sweetviz) é uma biblioteca que gera **relatórios interativos de análise exploratória**, permitindo comparar datasets de forma intuitiva.\n",
    "\n",
    "🔹 **Instalação** (caso não esteja instalado):  \n",
    "```bash\n",
    "pip install sweetviz\n",
    "```\n",
    "\n",
    "🔹 **Como usar**:\n",
    "\n",
    "1. Gere um relatório EDA com:\n",
    "```python\n",
    "import sweetviz as sv\n",
    "report = sv.analyze(data)\n",
    "report.show_html('sweetviz_report.html')  # Gera um relatório interativo em HTML\n",
    "```\n",
    "\n",
    "📌 **Dica:** O Sweetviz permite **comparar dois datasets** (ex.: conjunto de treino vs. teste) para identificar diferenças estatísticas!\n"
   ]
  },
  {
   "cell_type": "code",
   "execution_count": null,
   "metadata": {},
   "outputs": [],
   "source": [
    "#installing the package\n",
    "#pip install sweetviz # from terminal or \n",
    "\n",
    "# analysis report with sweetviz\n",
    "import sweetviz as sv\n",
    "\n",
    "# make analysis and assign the target feature\n",
    "sweet_report = sv.analyze(data , target_feat='PRICE') \n",
    "\n",
    "# view the analysis result in browser \n",
    "sweet_report.show_html()\n",
    "\n",
    "# save the analysis result into html\n",
    "sweet_report.show_html('analysis_with_sweetviz.html', scale=0.92)"
   ]
  },
  {
   "cell_type": "markdown",
   "metadata": {},
   "source": [
    "### Data-profiling\n",
    "\n",
    "Pandas-profiling also provides an extensive insight into your data effortlessly. It covers all the fundamental analysis you require with minimal coding effort. Just like Sweetviz, it also helps in documenting your EDA in HTML format, making data exploration and analysis a breeze."
   ]
  },
  {
   "cell_type": "code",
   "execution_count": null,
   "metadata": {},
   "outputs": [],
   "source": [
    "# install the package \n",
    "#(use ydata-profiling instead of pandas-profiling to avoid errors.)\n",
    "#pip install ydata-profiling\n",
    "\n",
    "# import the library\n",
    "from pandas_profiling import ProfileReport\n",
    "\n",
    "# view the analysis result inside jupyter MINIMAL\n",
    "#prof = ProfileReport(data,  minimal=True, title=\"DATA ANALYSIS REPORT\")\n",
    "#prof\n",
    "\n",
    "# view the analysis result inside jupyter COMPLETE\n",
    "prof = ProfileReport(data,  minimal=False, title=\"DATA ANALYSIS REPORT\")\n",
    "prof\n",
    "\n",
    "# save the analysis to html\n",
    "prof.to_file(output_file='PANDAS_PROFILING_ANALYSIS.html')"
   ]
  },
  {
   "cell_type": "markdown",
   "metadata": {},
   "source": [
    "### PyGWalker\n",
    "If you’re someone who uses Tableau or has some basic familiarity with it, this PyGWalker package is for you. You’ll find similar drag-and-drop features that streamline your data analysis process right in your Jupyter Notebook."
   ]
  },
  {
   "cell_type": "code",
   "execution_count": null,
   "metadata": {},
   "outputs": [],
   "source": [
    "# install the packages \n",
    "#!pip install pygwalker  # inside jupyter or\n",
    "#conda install -c conda-forge pygwalker # from conda terminal\n",
    "\n",
    "# import the library\n",
    "import pygwalker as pyg\n",
    "\n",
    "# run the code\n",
    "pyg.walk(data)"
   ]
  },
  {
   "cell_type": "markdown",
   "metadata": {},
   "source": [
    "### autoviz\n",
    "Wrapping up our exploration of package libraries in this article, we have Autoviz packages, which deliver a range of detailed visualizations. Once you’ve executed the code below, the outcomes of the analysis will be presented across various newly opened browser tabs."
   ]
  },
  {
   "cell_type": "code",
   "execution_count": null,
   "metadata": {},
   "outputs": [],
   "source": [
    "# install the autovix library\n",
    "#pip install autoviz\n",
    "\n",
    "# import the library\n",
    "from autoviz import AutoViz_Class\n",
    "\n",
    "av = AutoViz_Class()\n",
    "avt = av.AutoViz(\"\",dfte = data,header = 0,verbose = 1,lowess = False,\n",
    "      chart_format = \"server\",max_rows_analyzed = 10000,max_cols_analyzed = 10,\n",
    "      save_plot_dir=None)"
   ]
  }
 ],
 "metadata": {
  "kernelspec": {
   "display_name": "ambiente_zero",
   "language": "python",
   "name": "python3"
  },
  "language_info": {
   "codemirror_mode": {
    "name": "ipython",
    "version": 3
   },
   "file_extension": ".py",
   "mimetype": "text/x-python",
   "name": "python",
   "nbconvert_exporter": "python",
   "pygments_lexer": "ipython3",
   "version": "3.10.13"
  }
 },
 "nbformat": 4,
 "nbformat_minor": 2
}
